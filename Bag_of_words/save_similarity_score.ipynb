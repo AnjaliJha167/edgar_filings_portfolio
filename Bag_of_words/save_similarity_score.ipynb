{
 "cells":[
  {
   "cell_type":"code",
   "source":[
    "!pip install pyarrow\n",
    "!pip install wrds\n",
    "\n",
    "import sys\n",
    "import datetime as dt\n",
    "import os\n",
    "import pickle\n",
    "from numpy import dot\n",
    "from numpy.linalg import norm\n",
    "import pandas as pd\n",
    "import numpy as np\n",
    "import pandas as pd\n",
    "import os\n",
    "import sys\n",
    "import pyarrow.parquet as pq\n",
    "import re\n",
    "import yfinance as yf\n",
    "from datetime import datetime\n",
    "from dateutil.relativedelta import relativedelta\n",
    "import wrds\n",
    "import pytz\n",
    "import math\n",
    "import matplotlib.pyplot as plt\n",
    "from scipy.stats.mstats import winsorize\n",
    "import ast"
   ],
   "execution_count":2,
   "outputs":[
    {
     "name":"stdout",
     "text":[
      "Collecting pyarrow\r\n",
      "  Downloading pyarrow-15.0.0-cp38-cp38-manylinux_2_28_x86_64.whl (38.4 MB)\r\n",
      "\u001b[?25l     \u001b[90m━━━━━━━━━━━━━━━━━━━━━━━━━━━━━━━━━━━━━━━━\u001b[0m \u001b[32m0.0\/38.4 MB\u001b[0m \u001b[31m?\u001b[0m eta \u001b[36m-:--:--\u001b[0m\r\u001b[2K     \u001b[91m━━━━\u001b[0m\u001b[90m╺\u001b[0m\u001b[90m━━━━━━━━━━━━━━━━━━━━━━━━━━━━━━━━━━━\u001b[0m \u001b[32m4.0\/38.4 MB\u001b[0m \u001b[31m119.3 MB\/s\u001b[0m eta \u001b[36m0:00:01\u001b[0m\r\u001b[2K     \u001b[91m━━━━━━━━━\u001b[0m\u001b[90m╺\u001b[0m\u001b[90m━━━━━━━━━━━━━━━━━━━━━━━━━━━━━━\u001b[0m \u001b[32m9.0\/38.4 MB\u001b[0m \u001b[31m129.5 MB\/s\u001b[0m eta \u001b[36m0:00:01\u001b[0m\r\u001b[2K     \u001b[91m━━━━━━━━━━━━━━\u001b[0m\u001b[90m╺\u001b[0m\u001b[90m━━━━━━━━━━━━━━━━━━━━━━━━\u001b[0m \u001b[32m14.1\/38.4 MB\u001b[0m \u001b[31m140.7 MB\/s\u001b[0m eta \u001b[36m0:00:01\u001b[0m\r\u001b[2K     \u001b[91m━━━━━━━━━━━━━━━━━━━\u001b[0m\u001b[91m╸\u001b[0m\u001b[90m━━━━━━━━━━━━━━━━━━━\u001b[0m \u001b[32m19.3\/38.4 MB\u001b[0m \u001b[31m149.8 MB\/s\u001b[0m eta \u001b[36m0:00:01\u001b[0m\r\u001b[2K     \u001b[91m━━━━━━━━━━━━━━━━━━━━━━━━\u001b[0m\u001b[91m╸\u001b[0m\u001b[90m━━━━━━━━━━━━━━\u001b[0m \u001b[32m24.5\/38.4 MB\u001b[0m \u001b[31m146.7 MB\/s\u001b[0m eta \u001b[36m0:00:01\u001b[0m\r\u001b[2K     \u001b[91m━━━━━━━━━━━━━━━━━━━━━━━━━━━━━━\u001b[0m\u001b[90m╺\u001b[0m\u001b[90m━━━━━━━━\u001b[0m \u001b[32m29.8\/38.4 MB\u001b[0m \u001b[31m148.3 MB\/s\u001b[0m eta \u001b[36m0:00:01\u001b[0m\r\u001b[2K     \u001b[91m━━━━━━━━━━━━━━━━━━━━━━━━━━━━━━━━━━━\u001b[0m\u001b[91m╸\u001b[0m\u001b[90m━━━\u001b[0m \u001b[32m35.2\/38.4 MB\u001b[0m \u001b[31m153.7 MB\/s\u001b[0m eta \u001b[36m0:00:01\u001b[0m\r\u001b[2K     \u001b[91m━━━━━━━━━━━━━━━━━━━━━━━━━━━━━━━━━━━━━━\u001b[0m\u001b[91m╸\u001b[0m \u001b[32m38.4\/38.4 MB\u001b[0m \u001b[31m152.1 MB\/s\u001b[0m eta \u001b[36m0:00:01\u001b[0m\r\u001b[2K     \u001b[91m━━━━━━━━━━━━━━━━━━━━━━━━━━━━━━━━━━━━━━\u001b[0m\u001b[91m╸\u001b[0m \u001b[32m38.4\/38.4 MB\u001b[0m \u001b[31m152.1 MB\/s\u001b[0m eta \u001b[36m0:00:01\u001b[0m\r\u001b[2K     \u001b[90m━━━━━━━━━━━━━━━━━━━━━━━━━━━━━━━━━━━━━━━━\u001b[0m \u001b[32m38.4\/38.4 MB\u001b[0m \u001b[31m54.4 MB\/s\u001b[0m eta \u001b[36m0:00:00\u001b[0m\r\n",
      "\u001b[?25hRequirement already satisfied: numpy<2,>=1.16.6 in \/opt\/python\/envs\/default\/lib\/python3.8\/site-packages (from pyarrow) (1.24.3)\r\n",
      "Installing collected packages: pyarrow\r\n",
      "Successfully installed pyarrow-15.0.0\r\n",
      "\r\n",
      "\u001b[1m[\u001b[0m\u001b[34;49mnotice\u001b[0m\u001b[1;39;49m]\u001b[0m\u001b[39;49m A new release of pip is available: \u001b[0m\u001b[31;49m23.1.2\u001b[0m\u001b[39;49m -> \u001b[0m\u001b[32;49m24.0\u001b[0m\r\n",
      "\u001b[1m[\u001b[0m\u001b[34;49mnotice\u001b[0m\u001b[1;39;49m]\u001b[0m\u001b[39;49m To update, run: \u001b[0m\u001b[32;49mpip install --upgrade pip\u001b[0m\r\n",
      "Collecting wrds\r\n",
      "  Downloading wrds-3.2.0-py3-none-any.whl (13 kB)\r\n",
      "INFO: pip is looking at multiple versions of wrds to determine which version is compatible with other requirements. This could take a while.\r\n",
      "  Downloading wrds-3.1.6-py3-none-any.whl (12 kB)\r\n",
      "Requirement already satisfied: numpy in \/opt\/python\/envs\/default\/lib\/python3.8\/site-packages (from wrds) (1.24.3)\r\n",
      "Requirement already satisfied: pandas in \/opt\/python\/envs\/default\/lib\/python3.8\/site-packages (from wrds) (1.5.3)\r\n",
      "Requirement already satisfied: psycopg2-binary in \/opt\/python\/envs\/default\/lib\/python3.8\/site-packages (from wrds) (2.9.6)\r\n",
      "Requirement already satisfied: scipy in \/opt\/python\/envs\/default\/lib\/python3.8\/site-packages (from wrds) (1.9.1)\r\n",
      "Collecting sqlalchemy<2 (from wrds)\r\n",
      "  Downloading SQLAlchemy-1.4.51-cp38-cp38-manylinux_2_5_x86_64.manylinux1_x86_64.manylinux_2_17_x86_64.manylinux2014_x86_64.whl (1.6 MB)\r\n",
      "\u001b[?25l     \u001b[90m━━━━━━━━━━━━━━━━━━━━━━━━━━━━━━━━━━━━━━━━\u001b[0m \u001b[32m0.0\/1.6 MB\u001b[0m \u001b[31m?\u001b[0m eta \u001b[36m-:--:--\u001b[0m\r\u001b[2K     \u001b[90m━━━━━━━━━━━━━━━━━━━━━━━━━━━━━━━━━━━━━━━━\u001b[0m \u001b[32m1.6\/1.6 MB\u001b[0m \u001b[31m80.9 MB\/s\u001b[0m eta \u001b[36m0:00:00\u001b[0m\r\n",
      "\u001b[?25hRequirement already satisfied: greenlet!=0.4.17 in \/opt\/python\/envs\/default\/lib\/python3.8\/site-packages (from sqlalchemy<2->wrds) (3.0.3)\r\n",
      "Requirement already satisfied: python-dateutil>=2.8.1 in \/opt\/python\/envs\/default\/lib\/python3.8\/site-packages (from pandas->wrds) (2.8.2)\r\n",
      "Requirement already satisfied: pytz>=2020.1 in \/opt\/python\/envs\/default\/lib\/python3.8\/site-packages (from pandas->wrds) (2024.1)\r\n",
      "Requirement already satisfied: six>=1.5 in \/opt\/python\/envs\/default\/lib\/python3.8\/site-packages (from python-dateutil>=2.8.1->pandas->wrds) (1.16.0)\r\n",
      "Installing collected packages: sqlalchemy, wrds\r\n",
      "  Attempting uninstall: sqlalchemy\r\n",
      "    Found existing installation: SQLAlchemy 2.0.13\r\n",
      "    Uninstalling SQLAlchemy-2.0.13:\r\n",
      "      Successfully uninstalled SQLAlchemy-2.0.13\r\n",
      "Successfully installed sqlalchemy-1.4.51 wrds-3.1.6\r\n",
      "\r\n",
      "\u001b[1m[\u001b[0m\u001b[34;49mnotice\u001b[0m\u001b[1;39;49m]\u001b[0m\u001b[39;49m A new release of pip is available: \u001b[0m\u001b[31;49m23.1.2\u001b[0m\u001b[39;49m -> \u001b[0m\u001b[32;49m24.0\u001b[0m\r\n",
      "\u001b[1m[\u001b[0m\u001b[34;49mnotice\u001b[0m\u001b[1;39;49m]\u001b[0m\u001b[39;49m To update, run: \u001b[0m\u001b[32;49mpip install --upgrade pip\u001b[0m\r\n"
     ],
     "output_type":"stream"
    }
   ],
   "metadata":{
    "datalore":{
     "node_id":"VSOYDZa9rHC3nyYHaV3MmX",
     "type":"CODE",
     "hide_input_from_viewers":true,
     "hide_output_from_viewers":true
    }
   }
  },
  {
   "cell_type":"code",
   "source":[
    "folder_path = r'\/data\/workspace_files\/parquet_files\/reports_dictionary'\n",
    "files = [f for f in os.listdir(folder_path) if os.path.isfile(os.path.join(folder_path, f))]"
   ],
   "execution_count":5,
   "outputs":[
    
   ],
   "metadata":{
    "datalore":{
     "node_id":"rTjTnRVdL8y7fIK5ZGn5Ax",
     "type":"CODE",
     "hide_input_from_viewers":true,
     "hide_output_from_viewers":true
    }
   }
  },
  {
   "cell_type":"code",
   "source":[
    "def jaccard_similarity(str1, str2):\n",
    "    try:\n",
    "        dict1 = ast.literal_eval(str1)\n",
    "        dict2 = ast.literal_eval(str2)\n",
    "        s1 = set(dict1.keys())\n",
    "        s2 = set(dict2.keys())\n",
    "        return len(s1.intersection(s2)) \/ len(s1.union(s2))\n",
    "    except:\n",
    "        return -1\n",
    "\n",
    "def cosine_similarity(str1, str2):\n",
    "    try:\n",
    "        dict1 = ast.literal_eval(str1)\n",
    "        dict2 = ast.literal_eval(str2)\n",
    "        list1 = [dict1.get(key, 0) for key in set(dict1.keys()) | set(dict2.keys())]\n",
    "        list2 = [dict2.get(key, 0) for key in set(dict1.keys()) | set(dict2.keys())]\n",
    "        a = np.array(list1)\n",
    "        b = np.array(list2)\n",
    "        cos_sim = np.dot(a, b) \/ (np.linalg.norm(a) * np.linalg.norm(b))\n",
    "        return cos_sim\n",
    "    except:\n",
    "        return -1"
   ],
   "execution_count":6,
   "outputs":[
    
   ],
   "metadata":{
    "datalore":{
     "node_id":"md2HCMmJWXZXtyWaWk5VyY",
     "type":"CODE",
     "hide_input_from_viewers":true,
     "hide_output_from_viewers":true
    }
   }
  },
  {
   "cell_type":"code",
   "source":[
    "# Specify the path to the Parquet file\n",
    "parquet_file_path = f'{folder_path}\/file_2015.parquet'\n",
    "\n",
    "# Read the Parquet file into a PyArrow Table\n",
    "table = pq.read_table(parquet_file_path)\n",
    "\n",
    "# Convert the PyArrow Table to a Pandas DataFrame (optional)\n",
    "df = table.to_pandas()\n",
    "\n",
    "# Now, you can work with the PyArrow Table or Pandas DataFrame as needed\n",
    "df.head()"
   ],
   "execution_count":7,
   "outputs":[
    {
     "data":{
      "text\/html":[
       "<div>\n",
       "<style scoped>\n",
       "    .dataframe tbody tr th:only-of-type {\n",
       "        vertical-align: middle;\n",
       "    }\n",
       "\n",
       "    .dataframe tbody tr th {\n",
       "        vertical-align: top;\n",
       "    }\n",
       "\n",
       "    .dataframe thead th {\n",
       "        text-align: right;\n",
       "    }\n",
       "<\/style>\n",
       "<table border=\"1\" class=\"dataframe\">\n",
       "  <thead>\n",
       "    <tr style=\"text-align: right;\">\n",
       "      <th><\/th>\n",
       "      <th>cik<\/th>\n",
       "      <th>filing_date<\/th>\n",
       "      <th>accession_number<\/th>\n",
       "      <th>conformed_period_report<\/th>\n",
       "      <th>form_type<\/th>\n",
       "      <th>company_name<\/th>\n",
       "      <th>total_words<\/th>\n",
       "      <th>doc_dict_text<\/th>\n",
       "    <\/tr>\n",
       "  <\/thead>\n",
       "  <tbody>\n",
       "    <tr>\n",
       "      <th>0<\/th>\n",
       "      <td>22444<\/td>\n",
       "      <td>2015-01-09<\/td>\n",
       "      <td>0000022444-15-000006<\/td>\n",
       "      <td>2015-01-09<\/td>\n",
       "      <td>10-Q<\/td>\n",
       "      <td>COMMERCIAL METALS CO<\/td>\n",
       "      <td>16837<\/td>\n",
       "      <td>{'ABILITY': 10, 'ABLE': 1, 'ABOUT': 10, 'ABOVE...<\/td>\n",
       "    <\/tr>\n",
       "    <tr>\n",
       "      <th>1<\/th>\n",
       "      <td>1137789<\/td>\n",
       "      <td>2015-01-30<\/td>\n",
       "      <td>0001104659-15-005719<\/td>\n",
       "      <td>2015-01-02<\/td>\n",
       "      <td>10-Q<\/td>\n",
       "      <td>Seagate Technology plc<\/td>\n",
       "      <td>28710<\/td>\n",
       "      <td>{'ABILITY': 8, 'ABLE': 1, 'ABOUT': 6, 'ABOVE':...<\/td>\n",
       "    <\/tr>\n",
       "    <tr>\n",
       "      <th>2<\/th>\n",
       "      <td>1378992<\/td>\n",
       "      <td>2015-01-30<\/td>\n",
       "      <td>0001378992-15-000012<\/td>\n",
       "      <td>2015-01-30<\/td>\n",
       "      <td>10-Q<\/td>\n",
       "      <td>BERRY PLASTICS GROUP INC<\/td>\n",
       "      <td>20274<\/td>\n",
       "      <td>{'ABATE': 1, 'ABILITY': 9, 'ABLE': 1, 'ABOUT':...<\/td>\n",
       "    <\/tr>\n",
       "    <tr>\n",
       "      <th>3<\/th>\n",
       "      <td>1493594<\/td>\n",
       "      <td>2015-02-02<\/td>\n",
       "      <td>0001193125-15-029663<\/td>\n",
       "      <td>2015-01-02<\/td>\n",
       "      <td>10-Q<\/td>\n",
       "      <td>M\/A-COM Technology Solutions Holdings  Inc.<\/td>\n",
       "      <td>42425<\/td>\n",
       "      <td>{'ABANDONED': 2, 'ABIDE': 1, 'ABILITY': 51, 'A...<\/td>\n",
       "    <\/tr>\n",
       "    <tr>\n",
       "      <th>4<\/th>\n",
       "      <td>67887<\/td>\n",
       "      <td>2015-02-03<\/td>\n",
       "      <td>0000067887-15-000009<\/td>\n",
       "      <td>2015-01-03<\/td>\n",
       "      <td>10-Q<\/td>\n",
       "      <td>MOOG INC.<\/td>\n",
       "      <td>30487<\/td>\n",
       "      <td>{'ABANDON': 1, 'ABILITY': 11, 'ABLE': 3, 'ABOU...<\/td>\n",
       "    <\/tr>\n",
       "  <\/tbody>\n",
       "<\/table>\n",
       "<\/div>"
      ]
     },
     "metadata":{
      
     },
     "output_type":"display_data"
    }
   ],
   "metadata":{
    "datalore":{
     "node_id":"FJekaxG2xQVWeyzH6WLxSJ",
     "type":"CODE",
     "hide_input_from_viewers":true,
     "hide_output_from_viewers":true
    }
   }
  },
  {
   "cell_type":"code",
   "source":[
    "\n",
    "def process_and_save(year):\n",
    "    folder_path = r'\/data\/workspace_files\/parquet_files'\n",
    "    curr_file_path = f'{folder_path}\/file_{str(year)}.parquet'\n",
    "    prev_file_path = f'{folder_path}\/file_{str(year-1)}.parquet'\n",
    "    \n",
    "    # Read only relevant columns from current Parquet file\n",
    "    table_curr = pq.read_table(curr_file_path, columns=['cik', 'form_type', 'filing_date', 'conformed_period_report', 'doc_dict_text'])\n",
    "    curr_df = table_curr.to_pandas()\n",
    "    curr_df['conformed_period_report'] = pd.to_datetime(curr_df['conformed_period_report'])\n",
    "    curr_df['month'] = curr_df['conformed_period_report'].dt.month\n",
    "    \n",
    "    # Read only relevant columns from previous Parquet file\n",
    "    table_prev = pq.read_table(prev_file_path, columns=['cik', 'form_type', 'conformed_period_report', 'doc_dict_text'])\n",
    "    prev_df = table_prev.to_pandas()\n",
    "    prev_df['conformed_period_report'] = pd.to_datetime(prev_df['conformed_period_report'])\n",
    "    prev_df['month'] = prev_df['conformed_period_report'].dt.month\n",
    "    \n",
    "    # Merge DataFrames on 'cik', 'form_type', and 'month'\n",
    "    df = pd.merge(curr_df, prev_df, on=['cik', 'form_type', 'month'], suffixes=['', '_prev'])\n",
    "    \n",
    "    df['cosine_similarity'] = df.apply(lambda x: cosine_similarity(x['doc_dict_text'], x['doc_dict_text_prev']), axis=1)\n",
    "    df['jaccard_similarity'] = df.apply(lambda x: jaccard_similarity(x['doc_dict_text'], x['doc_dict_text_prev']), axis=1)\n",
    "    \n",
    "    # Select and save only necessary columns\n",
    "    df = df[['cik', 'filing_date', 'cosine_similarity', 'jaccard_similarity']]\n",
    "    df.to_parquet(f'\/data\/workspace_files\/parquet_files\/similarity_scores\/by_conformed_period\/{str(year)}.parquet')\n",
    "    # Release memory\n",
    "    del curr_df, prev_df, table_curr, table_prev, df\n",
    "\n",
    "\n",
    "dfs = []\n"
   ],
   "execution_count":8,
   "outputs":[
    
   ],
   "metadata":{
    "datalore":{
     "node_id":"nd4wNjel8ULpb6lRx2IEo3",
     "type":"CODE",
     "hide_input_from_viewers":true,
     "hide_output_from_viewers":true
    }
   }
  },
  {
   "cell_type":"code",
   "source":[
    "for year in range(2015, 2022):\n",
    "    process_and_save(year)\n",
    "    print(f'Finished: {year}')\n",
    "\n",
    "final_df = pd.concat(dfs)\n",
    "print(len(final_df))\n",
    "print(len(final_df['cik'].unique()))\n",
    "\n",
    "final_df['filing_monthyr'] = final_df['filing_date'].dt.strftime('%b%Y')"
   ],
   "execution_count":16,
   "outputs":[
    {
     "name":"stdout",
     "text":[
      "Finished: 2015\n",
      "Finished: 2016\n",
      "Finished: 2017\n",
      "Finished: 2018\n",
      "Finished: 2019\n"
     ],
     "output_type":"stream"
    },
    {
     "name":"stderr",
     "text":[
      "<ipython-input-5-580382473648>:22: RuntimeWarning: invalid value encountered in scalar divide\n",
      "  cos_sim = np.dot(a, b) \/ (np.linalg.norm(a) * np.linalg.norm(b))\n"
     ],
     "output_type":"stream"
    },
    {
     "ename":"FileNotFoundError",
     "evalue":"FileNotFoundError: \/data\/workspace_files\/parquet_files\/file_2020.parquet",
     "traceback":[
      "\u001b[0;31m---------------------------------------------------------------------------",
      "Traceback (most recent call last)",
      "FileNotFoundError: \/data\/workspace_files\/parquet_files\/file_2020.parquet"
     ],
     "output_type":"error"
    }
   ],
   "metadata":{
    "datalore":{
     "node_id":"KrO0wZ3blir08ZgGETtux4",
     "type":"CODE",
     "hide_input_from_viewers":true,
     "hide_output_from_viewers":true
    }
   }
  },
  {
   "cell_type":"code",
   "source":[
    "final_df[final_df['filing_monthyr']=='Feb2017']"
   ],
   "execution_count":14,
   "outputs":[
    {
     "data":{
      "text\/html":[
       "<div>\n",
       "<style scoped>\n",
       "    .dataframe tbody tr th:only-of-type {\n",
       "        vertical-align: middle;\n",
       "    }\n",
       "\n",
       "    .dataframe tbody tr th {\n",
       "        vertical-align: top;\n",
       "    }\n",
       "\n",
       "    .dataframe thead th {\n",
       "        text-align: right;\n",
       "    }\n",
       "<\/style>\n",
       "<table border=\"1\" class=\"dataframe\">\n",
       "  <thead>\n",
       "    <tr style=\"text-align: right;\">\n",
       "      <th><\/th>\n",
       "      <th>cik<\/th>\n",
       "      <th>filing_date<\/th>\n",
       "      <th>cosine_similarity<\/th>\n",
       "      <th>jaccard_similarity<\/th>\n",
       "      <th>filing_monthyr<\/th>\n",
       "    <\/tr>\n",
       "  <\/thead>\n",
       "  <tbody>\n",
       "    <tr>\n",
       "      <th>29482<\/th>\n",
       "      <td>1373690<\/td>\n",
       "      <td>2017-02-28<\/td>\n",
       "      <td>0.992972<\/td>\n",
       "      <td>0.774209<\/td>\n",
       "      <td>Feb2017<\/td>\n",
       "    <\/tr>\n",
       "  <\/tbody>\n",
       "<\/table>\n",
       "<\/div>"
      ]
     },
     "metadata":{
      
     },
     "output_type":"display_data"
    }
   ],
   "metadata":{
    "datalore":{
     "node_id":"AVoT2g7Wn1x9F0FPjiyYun",
     "type":"CODE",
     "hide_input_from_viewers":true,
     "hide_output_from_viewers":true
    }
   }
  },
  {
   "cell_type":"code",
   "source":[
    "month_yrs = final_df['filing_monthyr'].unique()\n",
    "for month_yr in month_yrs:\n",
    "    df_filt = final_df[final_df['filing_monthyr']==month_yr]\n",
    "    df_filt.to_parquet(f'\/data\/workspace_files\/parquet_files\/similarity_scores\/{month_yr}.parquet')"
   ],
   "execution_count":10,
   "outputs":[
    
   ],
   "metadata":{
    "datalore":{
     "node_id":"RVvtl5fMfwJ4ebyWSoFulE",
     "type":"CODE",
     "hide_input_from_viewers":true,
     "hide_output_from_viewers":true
    }
   }
  }
 ],
 "metadata":{
  "kernelspec":{
   "display_name":"Python",
   "language":"python",
   "name":"python"
  },
  "datalore":{
   "computation_mode":"JUPYTER",
   "package_manager":"pip",
   "base_environment":"default",
   "packages":[
    
   ],
   "report_row_ids":[
    
   ],
   "version":3
  }
 },
 "nbformat":4,
 "nbformat_minor":4
}